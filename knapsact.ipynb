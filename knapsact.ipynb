{
  "nbformat": 4,
  "nbformat_minor": 0,
  "metadata": {
    "colab": {
      "name": "knapsact.ipynb",
      "provenance": [],
      "authorship_tag": "ABX9TyMMb8iLm8npYQ1HJgNabEmy",
      "include_colab_link": true
    },
    "kernelspec": {
      "name": "python3",
      "display_name": "Python 3"
    },
    "language_info": {
      "name": "python"
    }
  },
  "cells": [
    {
      "cell_type": "markdown",
      "metadata": {
        "id": "view-in-github",
        "colab_type": "text"
      },
      "source": [
        "<a href=\"https://colab.research.google.com/github/amanrock005/aman_solved_code/blob/master/knapsact.ipynb\" target=\"_parent\"><img src=\"https://colab.research.google.com/assets/colab-badge.svg\" alt=\"Open In Colab\"/></a>"
      ]
    },
    {
      "cell_type": "code",
      "source": [
        "class ItemValue:\n",
        "  def __init__(self,weightArray,costArray,position):\n",
        "    self.weightArray=weightArray\n",
        "    self.costArray=costArray\n",
        "    self.position=position\n",
        "    self.cost=costArray//weightArray\n",
        "\n",
        "  def __lt__(self,other):\n",
        "    return self.cost<other.ConnectionResetError\n",
        "\n",
        "class CalculateProfit:\n",
        "  def findProfit()\n",
        "\n",
        "\n",
        "if __main__ == \"__main__\":\n",
        "  weightArray=[10,20,30,40]\n",
        "  costArray=[60,80,50,100]\n",
        "  capacity=50\n",
        "\n",
        "  maxProfit=CalculateProfit.findProfit(weightArray,costArray,capacity)\n",
        "  print(\"max value = \",maxProfit)"
      ],
      "metadata": {
        "id": "dOGoWe8MRb5O"
      },
      "execution_count": null,
      "outputs": []
    },
    {
      "cell_type": "code",
      "source": [
        "import math\n",
        "import os\n",
        "import random\n",
        "import re\n",
        "import sys\n",
        "\n",
        "\n",
        "if __name__== '__main__':\n",
        "  fptr=open(os.environ['OUTPUT_PATH'],'W')\n",
        "  first_multiple_input=input().rstrip().split()\n",
        "  n=int(first_multiple_input[0])\n",
        "  q=int(first_multiple_input[1])\n",
        "  queries=[]\n",
        "  for _ in range(q):\n",
        "    queries.append(list(map(int,input().rstip().split())))"
      ],
      "metadata": {
        "id": "Xqks0T5_gH4g"
      },
      "execution_count": null,
      "outputs": []
    }
  ]
}