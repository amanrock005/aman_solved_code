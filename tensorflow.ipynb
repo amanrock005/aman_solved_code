{
  "nbformat": 4,
  "nbformat_minor": 0,
  "metadata": {
    "colab": {
      "name": "tensorflow.ipynb",
      "provenance": [],
      "authorship_tag": "ABX9TyPWxYQHOgxKA1Yti9B67KEY",
      "include_colab_link": true
    },
    "kernelspec": {
      "name": "python3",
      "display_name": "Python 3"
    },
    "language_info": {
      "name": "python"
    }
  },
  "cells": [
    {
      "cell_type": "markdown",
      "metadata": {
        "id": "view-in-github",
        "colab_type": "text"
      },
      "source": [
        "<a href=\"https://colab.research.google.com/github/amanrock005/aman_solved_code/blob/master/tensorflow.ipynb\" target=\"_parent\"><img src=\"https://colab.research.google.com/assets/colab-badge.svg\" alt=\"Open In Colab\"/></a>"
      ]
    },
    {
      "cell_type": "code",
      "execution_count": 2,
      "metadata": {
        "id": "gzwg_y9nuFaT"
      },
      "outputs": [],
      "source": [
        "import numpy as np\n",
        "import pandas as pd\n",
        "import matplotlib.pyplot as plt \n",
        "\n",
        "import tensorflow as tf\n",
        "import tensorflow_hub as hub"
      ]
    },
    {
      "cell_type": "code",
      "source": [
        "#importing as data frame\n",
        "df = pd.read_csv(\"wine-reviews.csv\", usecols = ['country','description','points','price','variety','winery'])"
      ],
      "metadata": {
        "id": "a3S3aKh_uZ8s"
      },
      "execution_count": 3,
      "outputs": []
    },
    {
      "cell_type": "code",
      "source": [
        "df.head()"
      ],
      "metadata": {
        "colab": {
          "base_uri": "https://localhost:8080/",
          "height": 337
        },
        "id": "D4nkDPLouaD8",
        "outputId": "315db034-c22c-4d65-c31f-b60eb081f60e"
      },
      "execution_count": 4,
      "outputs": [
        {
          "output_type": "execute_result",
          "data": {
            "text/plain": [
              "    country                                        description  points  price  \\\n",
              "0     Italy  Aromas include tropical fruit, broom, brimston...      87    NaN   \n",
              "1  Portugal  This is ripe and fruity, a wine that is smooth...      87   15.0   \n",
              "2        US  Tart and snappy, the flavors of lime flesh and...      87   14.0   \n",
              "3        US  Pineapple rind, lemon pith and orange blossom ...      87   13.0   \n",
              "4        US  Much like the regular bottling from 2012, this...      87   65.0   \n",
              "\n",
              "          variety               winery  \n",
              "0     White Blend              Nicosia  \n",
              "1  Portuguese Red  Quinta dos Avidagos  \n",
              "2      Pinot Gris            Rainstorm  \n",
              "3        Riesling           St. Julian  \n",
              "4      Pinot Noir         Sweet Cheeks  "
            ],
            "text/html": [
              "\n",
              "  <div id=\"df-e37ce519-9d47-4545-87d9-047c5e39913e\">\n",
              "    <div class=\"colab-df-container\">\n",
              "      <div>\n",
              "<style scoped>\n",
              "    .dataframe tbody tr th:only-of-type {\n",
              "        vertical-align: middle;\n",
              "    }\n",
              "\n",
              "    .dataframe tbody tr th {\n",
              "        vertical-align: top;\n",
              "    }\n",
              "\n",
              "    .dataframe thead th {\n",
              "        text-align: right;\n",
              "    }\n",
              "</style>\n",
              "<table border=\"1\" class=\"dataframe\">\n",
              "  <thead>\n",
              "    <tr style=\"text-align: right;\">\n",
              "      <th></th>\n",
              "      <th>country</th>\n",
              "      <th>description</th>\n",
              "      <th>points</th>\n",
              "      <th>price</th>\n",
              "      <th>variety</th>\n",
              "      <th>winery</th>\n",
              "    </tr>\n",
              "  </thead>\n",
              "  <tbody>\n",
              "    <tr>\n",
              "      <th>0</th>\n",
              "      <td>Italy</td>\n",
              "      <td>Aromas include tropical fruit, broom, brimston...</td>\n",
              "      <td>87</td>\n",
              "      <td>NaN</td>\n",
              "      <td>White Blend</td>\n",
              "      <td>Nicosia</td>\n",
              "    </tr>\n",
              "    <tr>\n",
              "      <th>1</th>\n",
              "      <td>Portugal</td>\n",
              "      <td>This is ripe and fruity, a wine that is smooth...</td>\n",
              "      <td>87</td>\n",
              "      <td>15.0</td>\n",
              "      <td>Portuguese Red</td>\n",
              "      <td>Quinta dos Avidagos</td>\n",
              "    </tr>\n",
              "    <tr>\n",
              "      <th>2</th>\n",
              "      <td>US</td>\n",
              "      <td>Tart and snappy, the flavors of lime flesh and...</td>\n",
              "      <td>87</td>\n",
              "      <td>14.0</td>\n",
              "      <td>Pinot Gris</td>\n",
              "      <td>Rainstorm</td>\n",
              "    </tr>\n",
              "    <tr>\n",
              "      <th>3</th>\n",
              "      <td>US</td>\n",
              "      <td>Pineapple rind, lemon pith and orange blossom ...</td>\n",
              "      <td>87</td>\n",
              "      <td>13.0</td>\n",
              "      <td>Riesling</td>\n",
              "      <td>St. Julian</td>\n",
              "    </tr>\n",
              "    <tr>\n",
              "      <th>4</th>\n",
              "      <td>US</td>\n",
              "      <td>Much like the regular bottling from 2012, this...</td>\n",
              "      <td>87</td>\n",
              "      <td>65.0</td>\n",
              "      <td>Pinot Noir</td>\n",
              "      <td>Sweet Cheeks</td>\n",
              "    </tr>\n",
              "  </tbody>\n",
              "</table>\n",
              "</div>\n",
              "      <button class=\"colab-df-convert\" onclick=\"convertToInteractive('df-e37ce519-9d47-4545-87d9-047c5e39913e')\"\n",
              "              title=\"Convert this dataframe to an interactive table.\"\n",
              "              style=\"display:none;\">\n",
              "        \n",
              "  <svg xmlns=\"http://www.w3.org/2000/svg\" height=\"24px\"viewBox=\"0 0 24 24\"\n",
              "       width=\"24px\">\n",
              "    <path d=\"M0 0h24v24H0V0z\" fill=\"none\"/>\n",
              "    <path d=\"M18.56 5.44l.94 2.06.94-2.06 2.06-.94-2.06-.94-.94-2.06-.94 2.06-2.06.94zm-11 1L8.5 8.5l.94-2.06 2.06-.94-2.06-.94L8.5 2.5l-.94 2.06-2.06.94zm10 10l.94 2.06.94-2.06 2.06-.94-2.06-.94-.94-2.06-.94 2.06-2.06.94z\"/><path d=\"M17.41 7.96l-1.37-1.37c-.4-.4-.92-.59-1.43-.59-.52 0-1.04.2-1.43.59L10.3 9.45l-7.72 7.72c-.78.78-.78 2.05 0 2.83L4 21.41c.39.39.9.59 1.41.59.51 0 1.02-.2 1.41-.59l7.78-7.78 2.81-2.81c.8-.78.8-2.07 0-2.86zM5.41 20L4 18.59l7.72-7.72 1.47 1.35L5.41 20z\"/>\n",
              "  </svg>\n",
              "      </button>\n",
              "      \n",
              "  <style>\n",
              "    .colab-df-container {\n",
              "      display:flex;\n",
              "      flex-wrap:wrap;\n",
              "      gap: 12px;\n",
              "    }\n",
              "\n",
              "    .colab-df-convert {\n",
              "      background-color: #E8F0FE;\n",
              "      border: none;\n",
              "      border-radius: 50%;\n",
              "      cursor: pointer;\n",
              "      display: none;\n",
              "      fill: #1967D2;\n",
              "      height: 32px;\n",
              "      padding: 0 0 0 0;\n",
              "      width: 32px;\n",
              "    }\n",
              "\n",
              "    .colab-df-convert:hover {\n",
              "      background-color: #E2EBFA;\n",
              "      box-shadow: 0px 1px 2px rgba(60, 64, 67, 0.3), 0px 1px 3px 1px rgba(60, 64, 67, 0.15);\n",
              "      fill: #174EA6;\n",
              "    }\n",
              "\n",
              "    [theme=dark] .colab-df-convert {\n",
              "      background-color: #3B4455;\n",
              "      fill: #D2E3FC;\n",
              "    }\n",
              "\n",
              "    [theme=dark] .colab-df-convert:hover {\n",
              "      background-color: #434B5C;\n",
              "      box-shadow: 0px 1px 3px 1px rgba(0, 0, 0, 0.15);\n",
              "      filter: drop-shadow(0px 1px 2px rgba(0, 0, 0, 0.3));\n",
              "      fill: #FFFFFF;\n",
              "    }\n",
              "  </style>\n",
              "\n",
              "      <script>\n",
              "        const buttonEl =\n",
              "          document.querySelector('#df-e37ce519-9d47-4545-87d9-047c5e39913e button.colab-df-convert');\n",
              "        buttonEl.style.display =\n",
              "          google.colab.kernel.accessAllowed ? 'block' : 'none';\n",
              "\n",
              "        async function convertToInteractive(key) {\n",
              "          const element = document.querySelector('#df-e37ce519-9d47-4545-87d9-047c5e39913e');\n",
              "          const dataTable =\n",
              "            await google.colab.kernel.invokeFunction('convertToInteractive',\n",
              "                                                     [key], {});\n",
              "          if (!dataTable) return;\n",
              "\n",
              "          const docLinkHtml = 'Like what you see? Visit the ' +\n",
              "            '<a target=\"_blank\" href=https://colab.research.google.com/notebooks/data_table.ipynb>data table notebook</a>'\n",
              "            + ' to learn more about interactive tables.';\n",
              "          element.innerHTML = '';\n",
              "          dataTable['output_type'] = 'display_data';\n",
              "          await google.colab.output.renderOutput(dataTable, element);\n",
              "          const docLink = document.createElement('div');\n",
              "          docLink.innerHTML = docLinkHtml;\n",
              "          element.appendChild(docLink);\n",
              "        }\n",
              "      </script>\n",
              "    </div>\n",
              "  </div>\n",
              "  "
            ]
          },
          "metadata": {},
          "execution_count": 4
        }
      ]
    },
    {
      "cell_type": "code",
      "source": [
        "df = df.dropna(subset=[\"description\", \"points\"])"
      ],
      "metadata": {
        "id": "lEK2p7VEuaGh"
      },
      "execution_count": 5,
      "outputs": []
    },
    {
      "cell_type": "code",
      "source": [
        "plt.hist(df.points, bins=20)\n",
        "plt.title(\"points\")\n",
        "plt.ylabel(\"N\")\n",
        "plt.xlabel(\"points\")\n",
        "plt.show()"
      ],
      "metadata": {
        "colab": {
          "base_uri": "https://localhost:8080/",
          "height": 295
        },
        "id": "0wzLK14DuaIq",
        "outputId": "4eaad82a-14e0-4dfb-f30b-5bf0438c48e6"
      },
      "execution_count": 6,
      "outputs": [
        {
          "output_type": "display_data",
          "data": {
            "text/plain": [
              "<Figure size 432x288 with 1 Axes>"
            ],
            "image/png": "[encoded data removed]"
          },
          "metadata": {
            "needs_background": "light"
          }
        }
      ]
    },
    {
      "cell_type": "markdown",
      "source": [
        "their are two types of learning \n",
        "1. supervised = give labled input\n",
        "2. unsuperviesed = give unlabeled input\n",
        "\n",
        "![ml.PNG](data:image/png;base64,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)\n",
        "\n"
      ],
      "metadata": {
        "id": "wWRtnpnUuaKh"
      }
    },
    {
      "cell_type": "code",
      "source": [
        "# in unsuperviesed we give a data and algorithm finds patter\n",
        "# and classify them in different group based on those patter"
      ],
      "metadata": {
        "id": "RQk3JfiTuaMW"
      },
      "execution_count": 7,
      "outputs": []
    },
    {
      "cell_type": "code",
      "source": [
        "# reinforcement learning is based on rewards and penalities"
      ],
      "metadata": {
        "id": "Aojzrs2FzLJT"
      },
      "execution_count": 8,
      "outputs": []
    },
    {
      "cell_type": "code",
      "source": [
        "#types of input we give to model\n",
        "# categorical data eg sex, feedback\n",
        "# one hot encoding\n",
        "\n",
        "\n",
        "# usa [1,0,0,0]\n",
        "# India [0,1,0,0]\n",
        "# Germany [0,0,1,0]\n",
        "# uk [0,0,0,1]\n",
        "\n",
        "#Quantitative = discrete or continous"
      ],
      "metadata": {
        "id": "RtswKb7Guaaz"
      },
      "execution_count": 9,
      "outputs": []
    },
    {
      "cell_type": "code",
      "source": [
        "#supervised learning is grouped into\n",
        "# 1. classification or binary classification\n",
        "# 2. regression eg stock value prediction or temperature"
      ],
      "metadata": {
        "id": "_OqFrFbrzqE2"
      },
      "execution_count": 10,
      "outputs": []
    },
    {
      "cell_type": "code",
      "source": [
        "# data is divided into\n",
        "# 1. training\n",
        "# 2. validation\n",
        "# 3. testing\n",
        "\n",
        "# Give the feature matrix to the model and get a output and we \n",
        "# compare the output the loss is given back to model for \n",
        "# adustment"
      ],
      "metadata": {
        "id": "SzvQKUtazqIN"
      },
      "execution_count": 11,
      "outputs": []
    },
    {
      "cell_type": "markdown",
      "source": [
        "![loss.PNG](data:image/png;base64,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)"
      ],
      "metadata": {
        "id": "VPNXBGfH7p4L"
      }
    },
    {
      "cell_type": "code",
      "source": [
        "#activation function makes the input non linear"
      ],
      "metadata": {
        "id": "3XbRNZztzqKq"
      },
      "execution_count": 12,
      "outputs": []
    },
    {
      "cell_type": "code",
      "source": [
        "df['label'] = (df.points >= 90).astype(int)\n",
        "df = df[[\"description\", \"points\", \"label\"]]"
      ],
      "metadata": {
        "id": "mnDvnm50zqNO"
      },
      "execution_count": 13,
      "outputs": []
    },
    {
      "cell_type": "code",
      "source": [
        "df.tail()"
      ],
      "metadata": {
        "id": "fvRoB12NzqPu",
        "colab": {
          "base_uri": "https://localhost:8080/",
          "height": 206
        },
        "outputId": "15ced16b-d945-41f2-88b3-b02370861893"
      },
      "execution_count": 14,
      "outputs": [
        {
          "output_type": "execute_result",
          "data": {
            "text/plain": [
              "                                             description  points  label\n",
              "43899  This is an outlier in the Brian Carter lineup ...      92      1\n",
              "43900  From the Serralunga d'Alba area of Barolo prod...      92      1\n",
              "43901  Multiple vineyards contribute to this standout...      93      1\n",
              "43902  This wine shows a fine balance between sweetne...      93      1\n",
              "43903  This blend of 35% Chardonnay, 35% Pinot Blanc ...      93      1"
            ],
            "text/html": [
              "\n",
              "  <div id=\"df-3f4385b9-70b5-4f6a-8574-a64429e9b399\">\n",
              "    <div class=\"colab-df-container\">\n",
              "      <div>\n",
              "<style scoped>\n",
              "    .dataframe tbody tr th:only-of-type {\n",
              "        vertical-align: middle;\n",
              "    }\n",
              "\n",
              "    .dataframe tbody tr th {\n",
              "        vertical-align: top;\n",
              "    }\n",
              "\n",
              "    .dataframe thead th {\n",
              "        text-align: right;\n",
              "    }\n",
              "</style>\n",
              "<table border=\"1\" class=\"dataframe\">\n",
              "  <thead>\n",
              "    <tr style=\"text-align: right;\">\n",
              "      <th></th>\n",
              "      <th>description</th>\n",
              "      <th>points</th>\n",
              "      <th>label</th>\n",
              "    </tr>\n",
              "  </thead>\n",
              "  <tbody>\n",
              "    <tr>\n",
              "      <th>43899</th>\n",
              "      <td>This is an outlier in the Brian Carter lineup ...</td>\n",
              "      <td>92</td>\n",
              "      <td>1</td>\n",
              "    </tr>\n",
              "    <tr>\n",
              "      <th>43900</th>\n",
              "      <td>From the Serralunga d'Alba area of Barolo prod...</td>\n",
              "      <td>92</td>\n",
              "      <td>1</td>\n",
              "    </tr>\n",
              "    <tr>\n",
              "      <th>43901</th>\n",
              "      <td>Multiple vineyards contribute to this standout...</td>\n",
              "      <td>93</td>\n",
              "      <td>1</td>\n",
              "    </tr>\n",
              "    <tr>\n",
              "      <th>43902</th>\n",
              "      <td>This wine shows a fine balance between sweetne...</td>\n",
              "      <td>93</td>\n",
              "      <td>1</td>\n",
              "    </tr>\n",
              "    <tr>\n",
              "      <th>43903</th>\n",
              "      <td>This blend of 35% Chardonnay, 35% Pinot Blanc ...</td>\n",
              "      <td>93</td>\n",
              "      <td>1</td>\n",
              "    </tr>\n",
              "  </tbody>\n",
              "</table>\n",
              "</div>\n",
              "      <button class=\"colab-df-convert\" onclick=\"convertToInteractive('df-3f4385b9-70b5-4f6a-8574-a64429e9b399')\"\n",
              "              title=\"Convert this dataframe to an interactive table.\"\n",
              "              style=\"display:none;\">\n",
              "        \n",
              "  <svg xmlns=\"http://www.w3.org/2000/svg\" height=\"24px\"viewBox=\"0 0 24 24\"\n",
              "       width=\"24px\">\n",
              "    <path d=\"M0 0h24v24H0V0z\" fill=\"none\"/>\n",
              "    <path d=\"M18.56 5.44l.94 2.06.94-2.06 2.06-.94-2.06-.94-.94-2.06-.94 2.06-2.06.94zm-11 1L8.5 8.5l.94-2.06 2.06-.94-2.06-.94L8.5 2.5l-.94 2.06-2.06.94zm10 10l.94 2.06.94-2.06 2.06-.94-2.06-.94-.94-2.06-.94 2.06-2.06.94z\"/><path d=\"M17.41 7.96l-1.37-1.37c-.4-.4-.92-.59-1.43-.59-.52 0-1.04.2-1.43.59L10.3 9.45l-7.72 7.72c-.78.78-.78 2.05 0 2.83L4 21.41c.39.39.9.59 1.41.59.51 0 1.02-.2 1.41-.59l7.78-7.78 2.81-2.81c.8-.78.8-2.07 0-2.86zM5.41 20L4 18.59l7.72-7.72 1.47 1.35L5.41 20z\"/>\n",
              "  </svg>\n",
              "      </button>\n",
              "      \n",
              "  <style>\n",
              "    .colab-df-container {\n",
              "      display:flex;\n",
              "      flex-wrap:wrap;\n",
              "      gap: 12px;\n",
              "    }\n",
              "\n",
              "    .colab-df-convert {\n",
              "      background-color: #E8F0FE;\n",
              "      border: none;\n",
              "      border-radius: 50%;\n",
              "      cursor: pointer;\n",
              "      display: none;\n",
              "      fill: #1967D2;\n",
              "      height: 32px;\n",
              "      padding: 0 0 0 0;\n",
              "      width: 32px;\n",
              "    }\n",
              "\n",
              "    .colab-df-convert:hover {\n",
              "      background-color: #E2EBFA;\n",
              "      box-shadow: 0px 1px 2px rgba(60, 64, 67, 0.3), 0px 1px 3px 1px rgba(60, 64, 67, 0.15);\n",
              "      fill: #174EA6;\n",
              "    }\n",
              "\n",
              "    [theme=dark] .colab-df-convert {\n",
              "      background-color: #3B4455;\n",
              "      fill: #D2E3FC;\n",
              "    }\n",
              "\n",
              "    [theme=dark] .colab-df-convert:hover {\n",
              "      background-color: #434B5C;\n",
              "      box-shadow: 0px 1px 3px 1px rgba(0, 0, 0, 0.15);\n",
              "      filter: drop-shadow(0px 1px 2px rgba(0, 0, 0, 0.3));\n",
              "      fill: #FFFFFF;\n",
              "    }\n",
              "  </style>\n",
              "\n",
              "      <script>\n",
              "        const buttonEl =\n",
              "          document.querySelector('#df-3f4385b9-70b5-4f6a-8574-a64429e9b399 button.colab-df-convert');\n",
              "        buttonEl.style.display =\n",
              "          google.colab.kernel.accessAllowed ? 'block' : 'none';\n",
              "\n",
              "        async function convertToInteractive(key) {\n",
              "          const element = document.querySelector('#df-3f4385b9-70b5-4f6a-8574-a64429e9b399');\n",
              "          const dataTable =\n",
              "            await google.colab.kernel.invokeFunction('convertToInteractive',\n",
              "                                                     [key], {});\n",
              "          if (!dataTable) return;\n",
              "\n",
              "          const docLinkHtml = 'Like what you see? Visit the ' +\n",
              "            '<a target=\"_blank\" href=https://colab.research.google.com/notebooks/data_table.ipynb>data table notebook</a>'\n",
              "            + ' to learn more about interactive tables.';\n",
              "          element.innerHTML = '';\n",
              "          dataTable['output_type'] = 'display_data';\n",
              "          await google.colab.output.renderOutput(dataTable, element);\n",
              "          const docLink = document.createElement('div');\n",
              "          docLink.innerHTML = docLinkHtml;\n",
              "          element.appendChild(docLink);\n",
              "        }\n",
              "      </script>\n",
              "    </div>\n",
              "  </div>\n",
              "  "
            ]
          },
          "metadata": {},
          "execution_count": 14
        }
      ]
    },
    {
      "cell_type": "code",
      "source": [
        "train, val, test = np.split(df.sample(frac=1),[int(0.8*len(df)), int(0.9*len(df))])"
      ],
      "metadata": {
        "id": "xm3Mf8zGzqUi"
      },
      "execution_count": 15,
      "outputs": []
    },
    {
      "cell_type": "code",
      "source": [
        "len(train), len(val), len(test)"
      ],
      "metadata": {
        "id": "JrH_TWQezqW2",
        "colab": {
          "base_uri": "https://localhost:8080/"
        },
        "outputId": "efb2eeb2-2cbb-474a-a580-a03b5b2235d4"
      },
      "execution_count": 16,
      "outputs": [
        {
          "output_type": "execute_result",
          "data": {
            "text/plain": [
              "(35123, 4390, 4391)"
            ]
          },
          "metadata": {},
          "execution_count": 16
        }
      ]
    },
    {
      "cell_type": "code",
      "source": [
        "def df_to_dataset(dataframe, shuffle=True, batch_size=1024):\n",
        "  df = dataframe.copy()\n",
        "  labels = df.pop('label')\n",
        "  df = df[\"description\"]\n",
        "  ds = tf.data.Dataset.from_tensor_slices((df, labels))\n",
        "  if shuffle:\n",
        "    ds = ds.shuffle(buffer_size=len(dataframe))\n",
        "  ds = ds.batch(batch_size)\n",
        "  ds = ds.prefetch(tf.data.AUTOTUNE)\n",
        "  return ds"
      ],
      "metadata": {
        "id": "ljNxZI0FzqZE"
      },
      "execution_count": 21,
      "outputs": []
    },
    {
      "cell_type": "code",
      "source": [
        "train_data = df_to_dataset(train)\n",
        "valid_data = df_to_dataset(val)\n",
        "test_data = df_to_dataset(test)"
      ],
      "metadata": {
        "id": "G41j7izjDurg"
      },
      "execution_count": 22,
      "outputs": []
    },
    {
      "cell_type": "code",
      "source": [
        "list(train_data)[0]"
      ],
      "metadata": {
        "colab": {
          "base_uri": "https://localhost:8080/"
        },
        "id": "X1SKd4JyDu2V",
        "outputId": "add4cd26-0726-4f48-e3fa-dcc6385b6cab"
      },
      "execution_count": 23,
      "outputs": [
        {
          "output_type": "execute_result",
          "data": {
            "text/plain": [
              "(<tf.Tensor: shape=(1024,), dtype=string, numpy=\n",
              " array([b'Smoky, elegant and soft aromas of leather, pepper and berry lead into flavors of cherry and cigarbox spice on the palate of this approachable Cabernet. The wine is not terribly complex, but good structure and acidity give it cellaring potential, and paired with duck, lamb or beef dishes, it will make a very nice addition to the table.',\n",
              "        b\"Are golfer-inspired wines the next big thing? First came Greg Norman, then Ernie Els, now there's Nick Faldo. Made by Katnook Estate, this is a dark, plushly textured wine that's immediately accessible. Cassis and plum fruit is framed by dark accents of coffee and cola, picking up hints of mint on the finish. Imported by Freixenet USA.\",\n",
              "        b'Very ripe prune and wild berry flavors fill this full-bodied and rather soft-textured wine. Based on Zinfandel grapes, it is bold in aroma, forward in flavor, smooth in the mouth and tastes a little bit sweet on the finish.',\n",
              "        ...,\n",
              "        b'Marked by both reduction and oak, this wine feels lifted with acidity, opening in a vibrant shock of strawberry and Mandarin orange. Velvety layers subtle tannin carry a spicy finish of clove and salty sea air. A beautifully balanced, complete wine.',\n",
              "        b\"Rubbery and gaseous, and frankly it's just not very fresh or inviting. The mouthfeel suggests astringency, while the flavors are salty and earthy but not very fruity. Finishes with a leathery feel and tannic grab.\",\n",
              "        b'Exhibiting all the ripeness and richness of an Aloxe-Corton, this wine revels in delicious raspberry fruits, topped with red currant acidity. The wine rolls around the mouth, with a velvet texture on top of some firm tannins. There is a complex sweet and sour aftertaste, as the ripe fruit combines with fresh acidity.'],\n",
              "       dtype=object)>,\n",
              " <tf.Tensor: shape=(1024,), dtype=int64, numpy=array([0, 0, 0, ..., 1, 0, 1])>)"
            ]
          },
          "metadata": {},
          "execution_count": 23
        }
      ]
    },
    {
      "cell_type": "markdown",
      "source": [
        "#Embedding + Model"
      ],
      "metadata": {
        "id": "r2IQNPovGFtl"
      }
    },
    {
      "cell_type": "code",
      "source": [
        "embedding = \"https://tfhub.dev/google/nnlm-en-dim128/2\"\n",
        "hub_layer = hub.KerasLayer(embedding, dtype=tf.string, trainable=True)"
      ],
      "metadata": {
        "id": "q3htdsUHDu7O"
      },
      "execution_count": 37,
      "outputs": []
    },
    {
      "cell_type": "code",
      "source": [
        "hub_layer(list(train_data)[0][0])"
      ],
      "metadata": {
        "colab": {
          "base_uri": "https://localhost:8080/"
        },
        "id": "-19nuo6IDvAE",
        "outputId": "f1ada765-4553-43ab-96e7-db114ebde206"
      },
      "execution_count": 38,
      "outputs": [
        {
          "output_type": "execute_result",
          "data": {
            "text/plain": [
              "<tf.Tensor: shape=(1024, 128), dtype=float32, numpy=\n",
              "array([[ 0.59698015, -0.32613778,  0.18677467, ..., -0.0711047 ,\n",
              "         0.02068921,  0.01180447],\n",
              "       [ 0.5933371 , -0.21950777, -0.00409732, ...,  0.07879156,\n",
              "        -0.04714383,  0.02763043],\n",
              "       [ 0.10238551, -0.13657074,  0.13514878, ...,  0.00872203,\n",
              "        -0.02642066, -0.13673691],\n",
              "       ...,\n",
              "       [ 0.5548053 , -0.3315863 ,  0.1624257 , ..., -0.17388843,\n",
              "         0.12581426,  0.07978995],\n",
              "       [ 0.5699706 , -0.12134864,  0.0910327 , ..., -0.15202917,\n",
              "         0.14385052, -0.08610789],\n",
              "       [ 0.18820864, -0.2811966 ,  0.11190154, ...,  0.05376809,\n",
              "         0.06100197, -0.03439644]], dtype=float32)>"
            ]
          },
          "metadata": {},
          "execution_count": 38
        }
      ]
    },
    {
      "cell_type": "code",
      "source": [
        "model = tf.keras.Sequential()\n",
        "model.add(hub_layer)\n",
        "model.add(tf.keras.layers.Dense(16,activation='relu'))\n",
        "model.add(tf.keras.layers.Dropout(0.4))\n",
        "model.add(tf.keras.layers.Dense(16,activation=\"relu\"))\n",
        "model.add(tf.keras.layers.Dropout(0.4))\n",
        "model.add(tf.keras.layers.Dense(1,activation=\"sigmoid\"))"
      ],
      "metadata": {
        "id": "rfOPqr9AHJEa"
      },
      "execution_count": 39,
      "outputs": []
    },
    {
      "cell_type": "code",
      "source": [
        "model.compile(optimizer=tf.keras.optimizers.Adam(learning_rate=0.001),\n",
        "              loss=tf.keras.losses.BinaryCrossentropy(),\n",
        "              metrics=['accuracy'])"
      ],
      "metadata": {
        "id": "aavJq-JjHJML"
      },
      "execution_count": 40,
      "outputs": []
    },
    {
      "cell_type": "code",
      "source": [
        "model.evaluate(train_data)"
      ],
      "metadata": {
        "colab": {
          "base_uri": "https://localhost:8080/"
        },
        "id": "KRp0u-xrHJQg",
        "outputId": "b1dfb288-bc2f-45b2-8aa7-745b228e1234"
      },
      "execution_count": 41,
      "outputs": [
        {
          "output_type": "stream",
          "name": "stdout",
          "text": [
            "35/35 [==============================] - 1s 11ms/step - loss: 0.6841 - accuracy: 0.5943\n"
          ]
        },
        {
          "output_type": "execute_result",
          "data": {
            "text/plain": [
              "[0.6841482520103455, 0.5943114161491394]"
            ]
          },
          "metadata": {},
          "execution_count": 41
        }
      ]
    },
    {
      "cell_type": "code",
      "source": [
        "model.evaluate(valid_data)"
      ],
      "metadata": {
        "colab": {
          "base_uri": "https://localhost:8080/"
        },
        "id": "o0fmi_0LHJUX",
        "outputId": "0b6993b0-642c-4aa0-f72d-adf03e6227f4"
      },
      "execution_count": 42,
      "outputs": [
        {
          "output_type": "stream",
          "name": "stdout",
          "text": [
            "5/5 [==============================] - 0s 9ms/step - loss: 0.6828 - accuracy: 0.6016\n"
          ]
        },
        {
          "output_type": "execute_result",
          "data": {
            "text/plain": [
              "[0.6827887296676636, 0.6015945076942444]"
            ]
          },
          "metadata": {},
          "execution_count": 42
        }
      ]
    },
    {
      "cell_type": "code",
      "source": [
        "history = model.fit(train_data, epochs=5, validation_data=valid_data)"
      ],
      "metadata": {
        "colab": {
          "base_uri": "https://localhost:8080/"
        },
        "id": "E51oJj98HJdg",
        "outputId": "072024cf-a62e-4ee6-851f-5b3c6a5c370b"
      },
      "execution_count": 43,
      "outputs": [
        {
          "output_type": "stream",
          "name": "stdout",
          "text": [
            "Epoch 1/5\n",
            "35/35 [==============================] - 61s 2s/step - loss: 0.6333 - accuracy: 0.6347 - val_loss: 0.5589 - val_accuracy: 0.7269\n",
            "Epoch 2/5\n",
            "35/35 [==============================] - 50s 1s/step - loss: 0.5275 - accuracy: 0.7235 - val_loss: 0.4654 - val_accuracy: 0.7886\n",
            "Epoch 3/5\n",
            "35/35 [==============================] - 57s 2s/step - loss: 0.4453 - accuracy: 0.7940 - val_loss: 0.4322 - val_accuracy: 0.8062\n",
            "Epoch 4/5\n",
            "35/35 [==============================] - 64s 2s/step - loss: 0.3883 - accuracy: 0.8379 - val_loss: 0.4191 - val_accuracy: 0.8066\n",
            "Epoch 5/5\n",
            "35/35 [==============================] - 62s 2s/step - loss: 0.3463 - accuracy: 0.8671 - val_loss: 0.4181 - val_accuracy: 0.8055\n"
          ]
        }
      ]
    },
    {
      "cell_type": "code",
      "source": [
        "plt.plot(history.history['accuracy'],label=\"Training acc\")\n",
        "plt.plot(history.history['val_accuracy'], label=\"validation acc\")\n",
        "plt.title(\"accuracy of model\")\n",
        "plt.ylabel(\"accuracy\")\n",
        "plt.xlabel(\"epock\")\n",
        "plt.legend()\n",
        "plt.show()"
      ],
      "metadata": {
        "colab": {
          "base_uri": "https://localhost:8080/",
          "height": 295
        },
        "id": "BVp4YifTHJf-",
        "outputId": "900b2dcf-af68-4b94-ad6b-f2b8747c65ae"
      },
      "execution_count": 35,
      "outputs": [
        {
          "output_type": "display_data",
          "data": {
            "text/plain": [
              "<Figure size 432x288 with 1 Axes>"
            ],
            "image/png": "[encoded data removed]"
          },
          "metadata": {
            "needs_background": "light"
          }
        }
      ]
    },
    {
      "cell_type": "code",
      "source": [
        "plt.plot(history.history['loss'], label=\"Training loss\")\n",
        "plt.plot(history.history['val_loss'], label=\"validation loss\")\n",
        "plt.title(\"accuracy of model\")\n",
        "plt.ylabel(\"accuracy\")\n",
        "plt.xlabel(\"epochs\")\n",
        "plt.legend()\n",
        "plt.show()\n"
      ],
      "metadata": {
        "colab": {
          "base_uri": "https://localhost:8080/",
          "height": 295
        },
        "id": "g3eJouOxLZKr",
        "outputId": "9c5c2609-16f0-4466-c47c-4f62cce5ceb4"
      },
      "execution_count": 36,
      "outputs": [
        {
          "output_type": "display_data",
          "data": {
            "text/plain": [
              "<Figure size 432x288 with 1 Axes>"
            ],
            "image/png": "[encoded data removed]"
          },
          "metadata": {
            "needs_background": "light"
          }
        }
      ]
    },
    {
      "cell_type": "code",
      "source": [
        "model.evaluate(test_data)"
      ],
      "metadata": {
        "colab": {
          "base_uri": "https://localhost:8080/"
        },
        "id": "K8zpwSZ_MXf7",
        "outputId": "f8bca448-1c4a-4a0c-e1e9-92c1bb5ae5c9"
      },
      "execution_count": 44,
      "outputs": [
        {
          "output_type": "stream",
          "name": "stdout",
          "text": [
            "5/5 [==============================] - 1s 168ms/step - loss: 0.4034 - accuracy: 0.8183\n"
          ]
        },
        {
          "output_type": "execute_result",
          "data": {
            "text/plain": [
              "[0.40339452028274536, 0.8182646036148071]"
            ]
          },
          "metadata": {},
          "execution_count": 44
        }
      ]
    },
    {
      "cell_type": "markdown",
      "source": [
        "#LSTM"
      ],
      "metadata": {
        "id": "nx_Xqz23Mxdt"
      }
    },
    {
      "cell_type": "code",
      "source": [
        "encoder = tf.keras.layers.TextVectorization(max_tokens=2000)\n",
        "encoder.adapt(train_data.map(lambda text, label: text))"
      ],
      "metadata": {
        "id": "wgRQUDHxMXjc"
      },
      "execution_count": 45,
      "outputs": []
    },
    {
      "cell_type": "code",
      "source": [
        "vocab = np.array(encoder.get_vocabulary())\n",
        "vocab[:20]"
      ],
      "metadata": {
        "colab": {
          "base_uri": "https://localhost:8080/"
        },
        "id": "Q8jN3KeWMXl4",
        "outputId": "79814019-1464-4363-8f54-9a45e036b129"
      },
      "execution_count": 46,
      "outputs": [
        {
          "output_type": "execute_result",
          "data": {
            "text/plain": [
              "array(['', '[UNK]', 'and', 'the', 'a', 'of', 'with', 'this', 'is', 'wine',\n",
              "       'flavors', 'in', 'to', 'it', 'its', 'fruit', 'on', 'aromas',\n",
              "       'palate', 'that'], dtype='<U17')"
            ]
          },
          "metadata": {},
          "execution_count": 46
        }
      ]
    },
    {
      "cell_type": "code",
      "source": [
        "model = tf.keras.Sequential([\n",
        "                            encoder,\n",
        "                             tf.keras.layers.Embedding(\n",
        "                                 input_dim=len(encoder.get_vocabulary()),\n",
        "                                 output_dim=32,\n",
        "                                 mask_zero=True\n",
        "                             ),\n",
        "                             tf.keras.layers.LSTM(32),\n",
        "                             tf.keras.layers.Dense(32, activation=\"relu\"),\n",
        "                             tf.keras.layers.Dropout(0.4),\n",
        "                             tf.keras.layers.Dense(1,activation='sigmoid')\n",
        "])"
      ],
      "metadata": {
        "id": "cqXelHS6MXn5"
      },
      "execution_count": 47,
      "outputs": []
    },
    {
      "cell_type": "code",
      "source": [
        "model.compile(optimizer=tf.keras.optimizers.Adam(learning_rate=0.001),\n",
        "              loss=tf.keras.losses.BinaryCrossentropy(),\n",
        "              metrics=['accuracy'])"
      ],
      "metadata": {
        "id": "HmzcviNdOL4N"
      },
      "execution_count": 48,
      "outputs": []
    },
    {
      "cell_type": "code",
      "source": [
        "model.evaluate(train_data)\n",
        "model.evaluate(valid_data)"
      ],
      "metadata": {
        "colab": {
          "base_uri": "https://localhost:8080/"
        },
        "id": "0_oaVg60PCw5",
        "outputId": "fe8f0f15-6318-43d5-caf8-5f6a2a7aaf3a"
      },
      "execution_count": 49,
      "outputs": [
        {
          "output_type": "stream",
          "name": "stdout",
          "text": [
            "35/35 [==============================] - 9s 155ms/step - loss: 0.6945 - accuracy: 0.3771\n",
            "5/5 [==============================] - 1s 121ms/step - loss: 0.6946 - accuracy: 0.3702\n"
          ]
        },
        {
          "output_type": "execute_result",
          "data": {
            "text/plain": [
              "[0.6945629119873047, 0.37015944719314575]"
            ]
          },
          "metadata": {},
          "execution_count": 49
        }
      ]
    },
    {
      "cell_type": "code",
      "source": [
        "history = model.fit(train_data, epochs=5, validation_data=valid_data)"
      ],
      "metadata": {
        "colab": {
          "base_uri": "https://localhost:8080/"
        },
        "id": "usvip-RtPLbH",
        "outputId": "cc8f42c4-468c-4a23-b17b-4642cf71c5dd"
      },
      "execution_count": 50,
      "outputs": [
        {
          "output_type": "stream",
          "name": "stdout",
          "text": [
            "Epoch 1/5\n",
            "35/35 [==============================] - 20s 464ms/step - loss: 0.6700 - accuracy: 0.6152 - val_loss: 0.6329 - val_accuracy: 0.6305\n",
            "Epoch 2/5\n",
            "35/35 [==============================] - 14s 413ms/step - loss: 0.5383 - accuracy: 0.7194 - val_loss: 0.4336 - val_accuracy: 0.7991\n",
            "Epoch 3/5\n",
            "35/35 [==============================] - 15s 420ms/step - loss: 0.4020 - accuracy: 0.8223 - val_loss: 0.3961 - val_accuracy: 0.8196\n",
            "Epoch 4/5\n",
            "35/35 [==============================] - 15s 417ms/step - loss: 0.3670 - accuracy: 0.8427 - val_loss: 0.3790 - val_accuracy: 0.8260\n",
            "Epoch 5/5\n",
            "35/35 [==============================] - 14s 413ms/step - loss: 0.3481 - accuracy: 0.8524 - val_loss: 0.3716 - val_accuracy: 0.8308\n"
          ]
        }
      ]
    },
    {
      "cell_type": "code",
      "source": [
        "model.evaluate(test_data)"
      ],
      "metadata": {
        "id": "elK-ToEZPxDj",
        "outputId": "b8725593-f74b-4e86-e638-388344a22dfe",
        "colab": {
          "base_uri": "https://localhost:8080/"
        }
      },
      "execution_count": 51,
      "outputs": [
        {
          "output_type": "stream",
          "name": "stdout",
          "text": [
            "5/5 [==============================] - 1s 223ms/step - loss: 0.3577 - accuracy: 0.8426\n"
          ]
        },
        {
          "output_type": "execute_result",
          "data": {
            "text/plain": [
              "[0.3577295243740082, 0.8426326513290405]"
            ]
          },
          "metadata": {},
          "execution_count": 51
        }
      ]
    }
  ]
}